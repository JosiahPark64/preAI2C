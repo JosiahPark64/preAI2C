{
 "cells": [
  {
   "cell_type": "code",
   "execution_count": 1,
   "id": "15175c33",
   "metadata": {},
   "outputs": [],
   "source": [
    "my_str=\"hello world\"\n"
   ]
  },
  {
   "cell_type": "code",
   "execution_count": 2,
   "id": "58f84c70",
   "metadata": {},
   "outputs": [
    {
     "name": "stdout",
     "output_type": "stream",
     "text": [
      "l\n",
      "world\n"
     ]
    }
   ],
   "source": [
    "print(my_str[2])\n",
    "print(my_str[6:])"
   ]
  },
  {
   "cell_type": "code",
   "execution_count": 3,
   "id": "fb9ebadb",
   "metadata": {},
   "outputs": [
    {
     "name": "stdout",
     "output_type": "stream",
     "text": [
      "Hello world\n",
      "         hello world          \n"
     ]
    }
   ],
   "source": [
    "cap_str = my_str.capitalize()\n",
    "print(cap_str)\n",
    "cent_str = my_str.center(30)\n",
    "print(cent_str)\n"
   ]
  },
  {
   "cell_type": "code",
   "execution_count": 4,
   "id": "e38d5586",
   "metadata": {},
   "outputs": [
    {
     "name": "stdout",
     "output_type": "stream",
     "text": [
      "['hello', 'world']\n",
      "['Hello', 'world']\n"
     ]
    }
   ],
   "source": [
    "my_list=my_str.split()\n",
    "print(my_list)\n",
    "my_list2=cap_str.split()\n",
    "print(my_list2)"
   ]
  },
  {
   "cell_type": "code",
   "execution_count": 5,
   "id": "0209a3b9",
   "metadata": {},
   "outputs": [
    {
     "name": "stdout",
     "output_type": "stream",
     "text": [
      "['hello', 'world']\n",
      "1\n",
      "None\n"
     ]
    }
   ],
   "source": [
    "list_count=my_list.count(\"hello\")\n",
    "print(my_list)\n",
    "print(list_count)\n",
    "empty_list=my_list.clear()\n",
    "print(empty_list)"
   ]
  },
  {
   "cell_type": "code",
   "execution_count": 6,
   "id": "ab2a04f8",
   "metadata": {},
   "outputs": [
    {
     "name": "stdout",
     "output_type": "stream",
     "text": [
      "['h', 'e', 'l', 'l', 'o', ' ', 'w', 'o', 'r', 'l', 'd']\n",
      "l\n",
      "['d', 'l', 'r', 'o', 'w', ' ', 'o', 'l', 'l', 'e', 'h']\n"
     ]
    }
   ],
   "source": [
    "#print out 3rd letter of the list\n",
    "list2=list(my_str)\n",
    "print(list2)\n",
    "print(list2[2])\n",
    "print(list2[::-1])"
   ]
  },
  {
   "cell_type": "code",
   "execution_count": 7,
   "id": "25e5fb57",
   "metadata": {},
   "outputs": [
    {
     "name": "stdout",
     "output_type": "stream",
     "text": [
      "{'dogs': 3, 'cats': 4, 'alpacas': 100}\n",
      "{'dogs': 3, 'cats': 4, 'alpacas': 100, 'goat': 20}\n",
      "dict 2:\n",
      "{'dogs': 3, 'cats': 4, 'alpacas': 100, 'goat': 20}\n",
      "{'dogs': 3, 'cats': 4, 'alpacas': 100, 'goat': 20, 'cheese': '10'}\n",
      "3\n"
     ]
    }
   ],
   "source": [
    "my_dict={\"dogs\":3,\"cats\":4,\"alpacas\":100}\n",
    "print(my_dict)\n",
    "my_dict={\"dogs\":3,\"cats\":4,\"alpacas\":100,\"goat\":20}\n",
    "print(my_dict)\n",
    "\n",
    "dict2=my_dict.copy()\n",
    "print(\"dict 2:\")\n",
    "print(dict2)\n",
    "\n",
    "my_dict.update({\"cheese\":\"10\"})\n",
    "print(my_dict)\n",
    "\n",
    "dogs=my_dict.get(\"dogs\")\n",
    "print(dogs)"
   ]
  },
  {
   "cell_type": "code",
   "execution_count": 8,
   "id": "acc70e90",
   "metadata": {},
   "outputs": [
    {
     "data": {
      "text/plain": [
       "10"
      ]
     },
     "execution_count": 8,
     "metadata": {},
     "output_type": "execute_result"
    }
   ],
   "source": [
    "def funct10():\n",
    "    return 10\n",
    "\n",
    "funct10()"
   ]
  },
  {
   "cell_type": "code",
   "execution_count": 9,
   "id": "0134c57c",
   "metadata": {},
   "outputs": [
    {
     "data": {
      "text/plain": [
       "8"
      ]
     },
     "execution_count": 9,
     "metadata": {},
     "output_type": "execute_result"
    }
   ],
   "source": [
    "def cube(arg1):\n",
    "    return arg1**3\n",
    "\n",
    "cube(2)"
   ]
  },
  {
   "cell_type": "code",
   "execution_count": 13,
   "id": "e2ed541a",
   "metadata": {},
   "outputs": [
    {
     "name": "stdout",
     "output_type": "stream",
     "text": [
      "5.0\n"
     ]
    }
   ],
   "source": [
    "import math\n",
    "def hyp(a,b):\n",
    "    return ((a**2 + b**2)**(1/2))\n",
    "\n",
    "hypotenuse = hyp(4,3)\n",
    "print(hypotenuse)"
   ]
  },
  {
   "cell_type": "markdown",
   "id": "0cc2bf4e",
   "metadata": {},
   "source": []
  },
  {
   "cell_type": "code",
   "execution_count": 15,
   "id": "10c61756",
   "metadata": {},
   "outputs": [
    {
     "name": "stdout",
     "output_type": "stream",
     "text": [
      "{'dogs': 3, 'cats': 4, 'alpacas': 100, 'goat': 20, 'cheese': '10'}\n"
     ]
    },
    {
     "data": {
      "text/plain": [
       "[3, 4, 100, 20, '10']"
      ]
     },
     "execution_count": 15,
     "metadata": {},
     "output_type": "execute_result"
    }
   ],
   "source": [
    "def listy(dict):\n",
    "    print(my_dict)\n",
    "    return list(dict.values())\n",
    "\n",
    "def listy2(dict):\n",
    "    result=[]\n",
    "    for key in dict:\n",
    "        result.append(dict[key])\n",
    "    return result\n",
    "\n",
    "listy(my_dict)\n",
    "listy2(my_dict)"
   ]
  }
 ],
 "metadata": {
  "kernelspec": {
   "display_name": "Python 3",
   "language": "python",
   "name": "python3"
  },
  "language_info": {
   "codemirror_mode": {
    "name": "ipython",
    "version": 3
   },
   "file_extension": ".py",
   "mimetype": "text/x-python",
   "name": "python",
   "nbconvert_exporter": "python",
   "pygments_lexer": "ipython3",
   "version": "3.13.5"
  }
 },
 "nbformat": 4,
 "nbformat_minor": 5
}
