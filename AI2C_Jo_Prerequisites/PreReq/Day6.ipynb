{
 "cells": [
  {
   "cell_type": "markdown",
   "id": "a35b46b0",
   "metadata": {},
   "source": [
    "# Hands-On Exercises: Python `os` and `os.path` Modules\n",
    "\n",
    "This guide introduces basic file and directory operations using Python's `os` and `pathlib.Path` modules. It mirrors Linux shell operations you may already know, using Python code to accomplish the same tasks.\n",
    "\n",
    "---\n",
    "## Hands-On #1\n",
    "\n",
    "### Exercise 0: Environment Set-up\n",
    "\n",
    "Clone the repository at `https://github.com/shafe123/AI2C-python-files.git`.\n",
    "\n"
   ]
  },
  {
   "cell_type": "code",
   "execution_count": null,
   "id": "a492cb53",
   "metadata": {},
   "outputs": [],
   "source": []
  },
  {
   "cell_type": "markdown",
   "id": "077449e8",
   "metadata": {},
   "source": [
    "### Exercise 1: Get Current Working Directory\n",
    "\n",
    "**Goal**: Use Python to print the current working directory.\n",
    "\n",
    "✅ *Check*: Run the script and confirm it prints the full path of your working directory.\n",
    "\n",
    "---\n",
    "\n"
   ]
  },
  {
   "cell_type": "code",
   "execution_count": null,
   "id": "ee708c1f",
   "metadata": {},
   "outputs": [],
   "source": []
  },
  {
   "cell_type": "markdown",
   "id": "0d78273b",
   "metadata": {},
   "source": [
    "### Exercise 2: Change Directory\n",
    "\n",
    "**Goal**: Change into a directory named `projects`.\n",
    "\n",
    "✅ *Check*: Ensure that you are now in the `projects` directory. Create it first if it doesn't exist.\n",
    "\n",
    "---\n",
    "\n"
   ]
  },
  {
   "cell_type": "code",
   "execution_count": null,
   "id": "758dc489",
   "metadata": {},
   "outputs": [],
   "source": []
  },
  {
   "cell_type": "markdown",
   "id": "8f220f7c",
   "metadata": {},
   "source": [
    "### Exercise 3: List Directory Contents\n",
    "\n",
    "**Goal**: List all files and directories in the current directory.\n",
    "\n",
    "✅ *Check*: Compare the output to the `ls` command in your terminal.\n",
    "\n",
    "---\n",
    "\n"
   ]
  },
  {
   "cell_type": "code",
   "execution_count": null,
   "id": "ca308804",
   "metadata": {},
   "outputs": [],
   "source": []
  },
  {
   "cell_type": "markdown",
   "id": "f658e38c",
   "metadata": {},
   "source": [
    "### Exercise 4: Create a Directory\n",
    "\n",
    "**Goal**: Create a directory named `data`.\n",
    "\n",
    "✅ *Check*: Verify the directory exists using `pathlib` or by checking in your terminal.\n",
    "\n",
    "---\n",
    "\n"
   ]
  },
  {
   "cell_type": "code",
   "execution_count": null,
   "id": "fc18234c",
   "metadata": {},
   "outputs": [],
   "source": []
  },
  {
   "cell_type": "markdown",
   "id": "46f82cdc",
   "metadata": {},
   "source": [
    "### Exercise 5: Create Nested Directories\n",
    "\n",
    "**Goal**: Create nested directories `a/b/c` in one call.\n",
    "\n",
    "✅ *Check*: Use `pathlib` to confirm creation.\n",
    "\n",
    "---\n",
    "\n"
   ]
  },
  {
   "cell_type": "code",
   "execution_count": null,
   "id": "3a6fbf8d",
   "metadata": {},
   "outputs": [],
   "source": []
  },
  {
   "cell_type": "markdown",
   "id": "de2dacee",
   "metadata": {},
   "source": [
    "### Exercise 6: Remove a File\n",
    "\n",
    "**Goal**: Delete a file named `temp.txt`.\n",
    "\n",
    "✅ *Check*: Use `pathlib` to validate that the file no longer exists.\n",
    "\n",
    "---\n",
    "\n"
   ]
  },
  {
   "cell_type": "code",
   "execution_count": null,
   "id": "fc45bd3c",
   "metadata": {},
   "outputs": [],
   "source": []
  },
  {
   "cell_type": "markdown",
   "id": "ab62f372",
   "metadata": {},
   "source": [
    "### Exercise 7: Remove an Empty Directory\n",
    "\n",
    "**Goal**: Delete an empty directory named `old_data`.\n",
    "\n",
    "✅ *Check*: If the directory is not empty, this will raise an error. Try clearing it first.\n",
    "\n",
    "---\n",
    "\n"
   ]
  },
  {
   "cell_type": "code",
   "execution_count": null,
   "id": "ff12baca",
   "metadata": {},
   "outputs": [],
   "source": []
  },
  {
   "cell_type": "markdown",
   "id": "b0f1d985",
   "metadata": {},
   "source": [
    "### Exercise 8: Rename a File\n",
    "\n",
    "**Goal**: Rename `example.txt` to `renamed_example.txt`.\n",
    "\n",
    "✅ *Check*: Confirm the new name exists and the old one doesn't.\n",
    "\n",
    "---\n",
    "\n"
   ]
  },
  {
   "cell_type": "code",
   "execution_count": null,
   "id": "cbafcd34",
   "metadata": {},
   "outputs": [],
   "source": []
  },
  {
   "cell_type": "markdown",
   "id": "62b80d9c",
   "metadata": {},
   "source": [
    "### Exercise 9: Check File or Directory Type\n",
    "\n",
    "**Goal**: Determine whether `target` is a file or directory.\n",
    "\n",
    "✅ *Check*: Create a test file or directory and run the script to see the correct output.\n",
    "\n"
   ]
  },
  {
   "cell_type": "code",
   "execution_count": null,
   "id": "1e57086c",
   "metadata": {},
   "outputs": [],
   "source": []
  },
  {
   "cell_type": "markdown",
   "id": "202fac33",
   "metadata": {},
   "source": [
    "## Hands-On #2\n",
    "\n",
    "This series of exercises helps you understand how to create, read, append, and handle files in Python using both built-in `open()` and the `pathlib` module.\n",
    "\n",
    "---\n",
    "\n"
   ]
  },
  {
   "cell_type": "markdown",
   "id": "46e3e939",
   "metadata": {},
   "source": [
    "### Exercise 10: Create and Write to a File\n",
    "\n",
    "**Goal**: Create a file called `log.txt` and write a single line to it.\n",
    "\n",
    "✅ *Check*: Open `log.txt` and verify the line was written.\n",
    "\n",
    "---\n",
    "\n"
   ]
  },
  {
   "cell_type": "code",
   "execution_count": null,
   "id": "9e751f60",
   "metadata": {},
   "outputs": [
    {
     "name": "stdout",
     "output_type": "stream",
     "text": [
      "c:\\Users\\Josiah Park\\AI2C_Jo_Prerequisites\\PreReq\\projects\\projects\\projects\\projects\\projects\\projects\\projects\\projects\n",
      "['first line\\n', 'second line\\n', 'third line\\n']\n"
     ]
    }
   ],
   "source": [
    "#import libraries\n",
    "import os\n",
    "\n",
    "# check whre I am\n",
    "print(os.getcwd())\n",
    "\n",
    "#exercise\n",
    "text_to_write = ['first line\\n','second line\\n','third line\\n']\n",
    "with open('log.txt','w') as file:\n",
    "    for text in text_to_write:\n",
    "        file.write(text)"
   ]
  },
  {
   "cell_type": "markdown",
   "id": "f95cb919",
   "metadata": {},
   "source": [
    "### Exercise 11: Read the File\n",
    "\n",
    "**Goal**: Read and print the contents of `log.txt`.\n",
    "\n",
    "✅ *Check*: Ensure the output matches the line you wrote previously.\n",
    "\n",
    "---\n",
    "\n"
   ]
  },
  {
   "cell_type": "code",
   "execution_count": 39,
   "id": "51cf13cb",
   "metadata": {},
   "outputs": [
    {
     "name": "stdout",
     "output_type": "stream",
     "text": [
      "first line\n",
      "second line\n",
      "third line\n",
      "\n",
      "['first line\\n', 'second line\\n', 'third line\\n']\n"
     ]
    }
   ],
   "source": [
    "#read() reads whole file as a string\n",
    "with open('log.txt','r') as file:\n",
    "    print(file.read())\n",
    "\n",
    "#readlines() reads file line by line into a list\n",
    "text_list=[]\n",
    "with open('log.txt','r') as file:\n",
    "    text_list=file.readlines()\n",
    "print(text_list)"
   ]
  },
  {
   "cell_type": "markdown",
   "id": "dc107b04",
   "metadata": {},
   "source": [
    "### Exercise 12: Append a Line to the File\n",
    "\n",
    "**Goal**: Add another line to `log.txt` without removing the original content.\n",
    "\n",
    "✅ *Check*: Re-read the file and confirm both lines are present.\n",
    "\n",
    "---\n",
    "\n"
   ]
  },
  {
   "cell_type": "code",
   "execution_count": 48,
   "id": "c2256c8a",
   "metadata": {},
   "outputs": [
    {
     "name": "stdout",
     "output_type": "stream",
     "text": [
      "\n",
      "['first line\\n', 'second line\\n', 'third line\\n', 'this is line 4\\n', 'this is line 4\\n', 'this is line 4\\n']\n"
     ]
    }
   ],
   "source": [
    "new_line='this is line 4\\n'\n",
    "with open('log.txt','a+') as file:\n",
    "    file.write(new_line)\n",
    "    print(file.read())\n",
    "\n",
    "text_list=[]\n",
    "with open('log.txt','r') as file:\n",
    "    text_list=file.readlines()\n",
    "print(text_list)"
   ]
  },
  {
   "cell_type": "markdown",
   "id": "04805414",
   "metadata": {},
   "source": [
    "### Exercise 13: Write Multiple Lines\n",
    "\n",
    "**Goal**: Write multiple lines to a new file using a list.\n",
    "\n",
    "✅ *Check*: Open `multi.txt` and confirm all three lines are present.\n",
    "\n",
    "---\n",
    "\n"
   ]
  },
  {
   "cell_type": "code",
   "execution_count": null,
   "id": "e13ba73d",
   "metadata": {},
   "outputs": [
    {
     "name": "stdout",
     "output_type": "stream",
     "text": [
      "open with write permissions\n",
      "\n",
      "opened with read permissions\n",
      "line 1\n",
      "line 2\n",
      "line 3\n",
      "end\n"
     ]
    }
   ],
   "source": [
    "text_to_write=['line 1\\n', 'line 2\\n', 'line 3']\n",
    "with open('multi.txt','w+') as file:\n",
    "    print('open with write permissions')\n",
    "    for text in text_to_write:\n",
    "        file.write(text)\n",
    "    print(file.read())\n",
    "#nothing prints because the pointer is at the end of the file - no text follows\n",
    "\n",
    "with open('multi.txt','r') as file:\n",
    "    print('opened with read permissions')\n",
    "    print(file.read())\n",
    "    print('end')"
   ]
  },
  {
   "cell_type": "markdown",
   "id": "d0ee50fc",
   "metadata": {},
   "source": [
    "### Exercise 14: Read a File Line by Line\n",
    "\n",
    "**Goal**: Read `multi.txt` and print each line one at a time.\n",
    "\n",
    "✅ *Check*: Each line should print without extra blank lines.\n",
    "\n",
    "---\n",
    "\n"
   ]
  },
  {
   "cell_type": "code",
   "execution_count": 56,
   "id": "19199211",
   "metadata": {},
   "outputs": [
    {
     "name": "stdout",
     "output_type": "stream",
     "text": [
      "['line 1\\n', 'line 2\\n', 'line 3']\n",
      "end\n"
     ]
    }
   ],
   "source": [
    "with open('multi.txt','r') as file:\n",
    "    print(file.readlines())\n",
    "    print('end')"
   ]
  },
  {
   "cell_type": "markdown",
   "id": "4595fe32",
   "metadata": {},
   "source": [
    "### Exercise 15: Count Lines in a File\n",
    "\n",
    "**Goal**: Count how many lines are in `multi.txt`.\n",
    "\n",
    "✅ *Check*: The count should be 3 if using the previous file.\n",
    "\n",
    "---\n",
    "\n"
   ]
  },
  {
   "cell_type": "code",
   "execution_count": 58,
   "id": "8960db8c",
   "metadata": {},
   "outputs": [
    {
     "name": "stdout",
     "output_type": "stream",
     "text": [
      "['line 1\\n', 'line 2\\n', 'line 3']\n",
      "end\n",
      "3\n"
     ]
    }
   ],
   "source": [
    "with open('multi.txt','r') as file:\n",
    "    multi_list=file.readlines()\n",
    "    print(multi_list)\n",
    "    print('end')\n",
    "    print(len(multi_list))"
   ]
  },
  {
   "cell_type": "markdown",
   "id": "08293abc",
   "metadata": {},
   "source": [
    "### Exercise 16: Read a File Safely\n",
    "\n",
    "**Goal**: Try reading a file that may not exist and handle the error.\n",
    "\n",
    "✅ *Check*: Make sure the program doesn't crash if the file is missing.\n",
    "\n",
    "---\n",
    "\n"
   ]
  },
  {
   "cell_type": "code",
   "execution_count": 59,
   "id": "8059d8cd",
   "metadata": {},
   "outputs": [
    {
     "ename": "FileNotFoundError",
     "evalue": "[Errno 2] No such file or directory: 'hand.txt'",
     "output_type": "error",
     "traceback": [
      "\u001b[31m---------------------------------------------------------------------------\u001b[39m",
      "\u001b[31mFileNotFoundError\u001b[39m                         Traceback (most recent call last)",
      "\u001b[36mCell\u001b[39m\u001b[36m \u001b[39m\u001b[32mIn[59]\u001b[39m\u001b[32m, line 1\u001b[39m\n\u001b[32m----> \u001b[39m\u001b[32m1\u001b[39m \u001b[38;5;28;01mwith\u001b[39;00m \u001b[38;5;28;43mopen\u001b[39;49m\u001b[43m(\u001b[49m\u001b[33;43m'\u001b[39;49m\u001b[33;43mhand.txt\u001b[39;49m\u001b[33;43m'\u001b[39;49m\u001b[43m,\u001b[49m\u001b[33;43m'\u001b[39;49m\u001b[33;43mr\u001b[39;49m\u001b[33;43m'\u001b[39;49m\u001b[43m)\u001b[49m \u001b[38;5;28;01mas\u001b[39;00m file:\n\u001b[32m      2\u001b[39m     multi_list=file.readlines()\n\u001b[32m      3\u001b[39m     \u001b[38;5;28mprint\u001b[39m(multi_list)\n",
      "\u001b[36mFile \u001b[39m\u001b[32m~\\AppData\\Roaming\\Python\\Python313\\site-packages\\IPython\\core\\interactiveshell.py:343\u001b[39m, in \u001b[36m_modified_open\u001b[39m\u001b[34m(file, *args, **kwargs)\u001b[39m\n\u001b[32m    336\u001b[39m \u001b[38;5;28;01mif\u001b[39;00m file \u001b[38;5;129;01min\u001b[39;00m {\u001b[32m0\u001b[39m, \u001b[32m1\u001b[39m, \u001b[32m2\u001b[39m}:\n\u001b[32m    337\u001b[39m     \u001b[38;5;28;01mraise\u001b[39;00m \u001b[38;5;167;01mValueError\u001b[39;00m(\n\u001b[32m    338\u001b[39m         \u001b[33mf\u001b[39m\u001b[33m\"\u001b[39m\u001b[33mIPython won\u001b[39m\u001b[33m'\u001b[39m\u001b[33mt let you open fd=\u001b[39m\u001b[38;5;132;01m{\u001b[39;00mfile\u001b[38;5;132;01m}\u001b[39;00m\u001b[33m by default \u001b[39m\u001b[33m\"\u001b[39m\n\u001b[32m    339\u001b[39m         \u001b[33m\"\u001b[39m\u001b[33mas it is likely to crash IPython. If you know what you are doing, \u001b[39m\u001b[33m\"\u001b[39m\n\u001b[32m    340\u001b[39m         \u001b[33m\"\u001b[39m\u001b[33myou can use builtins\u001b[39m\u001b[33m'\u001b[39m\u001b[33m open.\u001b[39m\u001b[33m\"\u001b[39m\n\u001b[32m    341\u001b[39m     )\n\u001b[32m--> \u001b[39m\u001b[32m343\u001b[39m \u001b[38;5;28;01mreturn\u001b[39;00m \u001b[43mio_open\u001b[49m\u001b[43m(\u001b[49m\u001b[43mfile\u001b[49m\u001b[43m,\u001b[49m\u001b[43m \u001b[49m\u001b[43m*\u001b[49m\u001b[43margs\u001b[49m\u001b[43m,\u001b[49m\u001b[43m \u001b[49m\u001b[43m*\u001b[49m\u001b[43m*\u001b[49m\u001b[43mkwargs\u001b[49m\u001b[43m)\u001b[49m\n",
      "\u001b[31mFileNotFoundError\u001b[39m: [Errno 2] No such file or directory: 'hand.txt'"
     ]
    }
   ],
   "source": [
    "with open('hand.txt','r') as file:\n",
    "    multi_list=file.readlines()\n",
    "    print(multi_list)\n",
    "    print('end')\n",
    "    print(len(multi_list))"
   ]
  },
  {
   "cell_type": "markdown",
   "id": "5447c052",
   "metadata": {},
   "source": [
    "### Exercise 17: Use `pathlib` to Read/Write\n",
    "\n",
    "**Goal**: Use `pathlib.Path` instead of `open()`.\n",
    "\n",
    "✅ *Check*: The file should contain the message, and it should print to the screen.\n",
    "\n",
    "\n"
   ]
  },
  {
   "cell_type": "code",
   "execution_count": null,
   "id": "6e998665",
   "metadata": {},
   "outputs": [],
   "source": [
    "from pathlib import Path\n"
   ]
  },
  {
   "cell_type": "markdown",
   "id": "8fa4bb58",
   "metadata": {},
   "source": [
    "## Stretch Goals\n",
    "\n",
    "**Goal**: Print the size and last modified time of `data.csv`.\n",
    "\n",
    "✅ *Check*: Match file size with `ls -l` and modification time with `stat` in the terminal.\n",
    "\n",
    "**Goal**: Gain a deeper understanding of os and Pathlib.\n",
    "\n",
    "Create a short listing of the overlapping features of os and Pathlib.  Why might one prefer one module over the other?"
   ]
  },
  {
   "cell_type": "code",
   "execution_count": null,
   "id": "ba496412",
   "metadata": {},
   "outputs": [],
   "source": []
  }
 ],
 "metadata": {
  "kernelspec": {
   "display_name": "Python 3",
   "language": "python",
   "name": "python3"
  },
  "language_info": {
   "codemirror_mode": {
    "name": "ipython",
    "version": 3
   },
   "file_extension": ".py",
   "mimetype": "text/x-python",
   "name": "python",
   "nbconvert_exporter": "python",
   "pygments_lexer": "ipython3",
   "version": "3.13.5"
  }
 },
 "nbformat": 4,
 "nbformat_minor": 5
}
