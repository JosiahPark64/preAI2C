{
 "cells": [
  {
   "cell_type": "code",
   "execution_count": null,
   "id": "15e75914",
   "metadata": {},
   "outputs": [],
   "source": [
    "#what is an input function\n",
    "num1 =float(input('what is your numb3r'))\n",
    "num2 =float(input('what is your number'))\n",
    "print(name1+name2)"
   ]
  },
  {
   "cell_type": "code",
   "execution_count": null,
   "id": "a8d92f65",
   "metadata": {},
   "outputs": [],
   "source": [
    "#print numbers 1 to 100. if number is divisible by 3, print fizz, if divisible by 5, write buzz. if divisible by both, write fizz buzz\n",
    "\n",
    "i=1\n",
    "output =''\n",
    "while i<101:\n",
    "    if i%3==0:\n",
    "        output+=\"fizz \"\n",
    "    if i%5==0:\n",
    "        output+='buzz '\n",
    "    print(i,output)\n",
    "    i+=1\n",
    "    output=''\n",
    "\n",
    "for number in range(1,101):\n",
    "    print(number)"
   ]
  },
  {
   "cell_type": "code",
   "execution_count": 2,
   "id": "77905a47",
   "metadata": {},
   "outputs": [
    {
     "name": "stdout",
     "output_type": "stream",
     "text": [
      "Error:  is not rock, paper or scissors. Terminating.\n"
     ]
    }
   ],
   "source": [
    "# create rock papers scissors and fight the machine\n",
    "# modules\n",
    "import random\n",
    "\n",
    "rps = [\"rock\", \"paper\", \"scissors\"]\n",
    "cpu_choice=random.choice(rps)\n",
    "user_choice =input(\"rock, paper or scissors?\")\n",
    "\n",
    "try:\n",
    "    if not user_choice=='rock':\n",
    "        raise ValueError(f'{user_choice}'\" is not rock, paper or scissors. Terminating.\")\n",
    "    elif user_choice!='paper':\n",
    "        raise ValueError(f'{user_choice}'\" is not rock, paper or scissors. Terminating.\")\n",
    "    elif user_choice!='scissors':\n",
    "        raise ValueError(f'{user_choice}'\" is not rock, paper or scissors. Terminating.\")\n",
    "    else:\n",
    "        if cpu_choice=='rock' and user_choice=='paper':\n",
    "            print('you played',user_choice,'...YOU WIN')\n",
    "        elif cpu_choice=='rock' and user_choice=='scissors':\n",
    "            print('you played',user_choice,'...CPU WIN')\n",
    "        elif cpu_choice=='paper' and user_choice=='rock':\n",
    "            print('you played',user_choice,'...CPU WIN')\n",
    "        elif cpu_choice=='paper' and user_choice=='scissors':\n",
    "            print('you played',user_choice,'...YOU WIN')\n",
    "        elif cpu_choice=='scissors' and user_choice=='paper':\n",
    "            print('you played',user_choice,'...CPU WIN')\n",
    "        elif cpu_choice=='scissors' and user_choice=='rock':\n",
    "            print('you played',user_choice,'...YOU WIN')\n",
    "        else:\n",
    "            print('you both played',user_choice,'... TIE')\n",
    "except ValueError as message:\n",
    "    print(f\"Error: {message}\")\n"
   ]
  },
  {
   "cell_type": "markdown",
   "id": "ab397b9b",
   "metadata": {},
   "source": [
    "### header\n",
    "# big header\n",
    "## header\n",
    "### header\n",
    "#### little header\n",
    "##### littlest header\n"
   ]
  },
  {
   "cell_type": "code",
   "execution_count": 22,
   "id": "ea6e906d",
   "metadata": {},
   "outputs": [
    {
     "ename": "ValueError",
     "evalue": "invalid literal for int() with base 10: ''",
     "output_type": "error",
     "traceback": [
      "\u001b[31m---------------------------------------------------------------------------\u001b[39m",
      "\u001b[31mValueError\u001b[39m                                Traceback (most recent call last)",
      "\u001b[36mCell\u001b[39m\u001b[36m \u001b[39m\u001b[32mIn[22]\u001b[39m\u001b[32m, line 14\u001b[39m\n\u001b[32m     11\u001b[39m guesses_count=\u001b[32m0\u001b[39m\n\u001b[32m     13\u001b[39m \u001b[38;5;28;01mwhile\u001b[39;00m user_guess != target:\n\u001b[32m---> \u001b[39m\u001b[32m14\u001b[39m     user_guess=\u001b[38;5;28;43mint\u001b[39;49m\u001b[43m(\u001b[49m\u001b[38;5;28;43minput\u001b[39;49m\u001b[43m(\u001b[49m\u001b[33;43m'\u001b[39;49m\u001b[33;43mguess a number from 1 to 100.\u001b[39;49m\u001b[33;43m'\u001b[39;49m\u001b[43m)\u001b[49m\u001b[43m)\u001b[49m\n\u001b[32m     15\u001b[39m     guesses_count+=\u001b[32m1\u001b[39m\n\u001b[32m     16\u001b[39m     \u001b[38;5;28;01mif\u001b[39;00m user_guess>target:\n",
      "\u001b[31mValueError\u001b[39m: invalid literal for int() with base 10: ''"
     ]
    }
   ],
   "source": [
    "#guessing game. randomly assign number from 1 to 100 using the random module\n",
    "# as the user to guess a number\n",
    "# if the user guesses higher, display \"Too high\"\n",
    "# if the user guesses lower, display \"Too low\"\n",
    "#congratulate the user when they guess the correct number\n",
    "#continually ask until they get the number correct\n",
    "#display the user's guesses\n",
    "\n",
    "target = random.randint(1,100)\n",
    "user_guess=0\n",
    "guesses_count=0\n",
    "\n",
    "while user_guess != target:\n",
    "    user_guess=int(input('guess a number from 1 to 100.'))\n",
    "    guesses_count+=1\n",
    "    if user_guess>target:\n",
    "        print('You guessed:',user_guess,'Too high. You have guessed',guesses_count,'times. Guess again.')\n",
    "    elif user_guess<target:\n",
    "        print('You guessed:',user_guess,'Too low. You have guessed',guesses_count,'times. Guess again.')\n",
    "    else:\n",
    "        print('You guessed:',user_guess,'Correct! You guessed',guesses_count,)"
   ]
  },
  {
   "cell_type": "code",
   "execution_count": null,
   "id": "adb91def",
   "metadata": {},
   "outputs": [
    {
     "ename": "ValueError",
     "evalue": "invalid literal for int() with base 10: ''",
     "output_type": "error",
     "traceback": [
      "\u001b[31m---------------------------------------------------------------------------\u001b[39m",
      "\u001b[31mValueError\u001b[39m                                Traceback (most recent call last)",
      "\u001b[36mCell\u001b[39m\u001b[36m \u001b[39m\u001b[32mIn[20]\u001b[39m\u001b[32m, line 14\u001b[39m\n\u001b[32m     12\u001b[39m \u001b[38;5;28;01mfor\u001b[39;00m _ \u001b[38;5;129;01min\u001b[39;00m \u001b[38;5;28mrange\u001b[39m(\u001b[32m1\u001b[39m,students_count+\u001b[32m1\u001b[39m):\n\u001b[32m     13\u001b[39m     stu_name=\u001b[38;5;28minput\u001b[39m(\u001b[33mf\u001b[39m\u001b[33m\"\u001b[39m\u001b[33mwhat is the name of student \u001b[39m\u001b[33m\"\u001b[39m\u001b[33m'\u001b[39m\u001b[38;5;132;01m{number}\u001b[39;00m\u001b[33m'\u001b[39m)\n\u001b[32m---> \u001b[39m\u001b[32m14\u001b[39m     stu_grade=\u001b[38;5;28;43mint\u001b[39;49m\u001b[43m(\u001b[49m\u001b[38;5;28;43minput\u001b[39;49m\u001b[43m(\u001b[49m\u001b[33;43mf\u001b[39;49m\u001b[33;43m'\u001b[39;49m\u001b[33;43mWhat is their grade?\u001b[39;49m\u001b[33;43m'\u001b[39;49m\u001b[43m)\u001b[49m\u001b[43m)\u001b[49m\n\u001b[32m     15\u001b[39m     student_dict.update({stu_name:stu_grade})\n\u001b[32m     16\u001b[39m     \u001b[38;5;28mprint\u001b[39m(student_dict)\n",
      "\u001b[31mValueError\u001b[39m: invalid literal for int() with base 10: ''"
     ]
    }
   ],
   "source": [
    "#write a program to help you track your students grades\n",
    "#ask the user how many students are in the class\n",
    "#for each student, ask their name and their grade\n",
    "#display the class average\n",
    "#display the highest grade in the class\n",
    "#display the lowest grade in the class\n",
    "\n",
    "students_count=int(input('How many students are in your class?'))\n",
    "#student_dict={\"dogs\":3,\"cats\":4,\"alpacas\":100}\n",
    "student_dict={}\n",
    "\n",
    "for _ in range(1,students_count+1):\n",
    "    stu_name=input(\"what is the student's name?\")\n",
    "    stu_grade=int(input(f'What is their grade?'))\n",
    "    student_dict.update({stu_name:stu_grade})\n",
    "    print(student_dict)\n",
    "\n",
    "avg_grade=sum(student_dict.values())/len(student_dict)\n",
    "print(\"Average class grade is\",avg_grade)\n",
    "print(\"Top class grade is\",max(student_dict),'with:',max(student_dict.values()))\n",
    "print(\"Lowest class grade is\",min(student_dict),'with:',min(student_dict.values()))\n"
   ]
  }
 ],
 "metadata": {
  "kernelspec": {
   "display_name": "Python 3",
   "language": "python",
   "name": "python3"
  },
  "language_info": {
   "codemirror_mode": {
    "name": "ipython",
    "version": 3
   },
   "file_extension": ".py",
   "mimetype": "text/x-python",
   "name": "python",
   "nbconvert_exporter": "python",
   "pygments_lexer": "ipython3",
   "version": "3.13.5"
  }
 },
 "nbformat": 4,
 "nbformat_minor": 5
}
