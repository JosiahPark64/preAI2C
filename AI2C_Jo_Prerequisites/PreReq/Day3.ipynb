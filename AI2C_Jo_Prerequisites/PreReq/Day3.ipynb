{
 "cells": [
  {
   "cell_type": "code",
   "execution_count": null,
   "id": "60e68320",
   "metadata": {},
   "outputs": [],
   "source": [
    "#write a function that checks if a number is pos, neg or 0\n",
    "\n",
    "x=-9\n",
    "def check_num(num):\n",
    "    if(num!=0):\n",
    "        if(num*-1>0):\n",
    "            print('negative')\n",
    "        else:\n",
    "            print('positive')\n",
    "    else:\n",
    "        print('zero')\n",
    "\n",
    "check_num(x)"
   ]
  },
  {
   "cell_type": "code",
   "execution_count": null,
   "id": "67e4161f",
   "metadata": {},
   "outputs": [],
   "source": [
    "def check_num2(num):\n",
    "    if(num!=0):\n",
    "        if(num*-1>0):\n",
    "            ans='negative'\n",
    "        else:\n",
    "            ans='positive'\n",
    "    else:\n",
    "        ans='zero'\n",
    "    return ans\n",
    "\n",
    "z = int(input(\"input a #!!!!!!!!!!!!!!!!!\"))\n",
    "check_num(z)"
   ]
  },
  {
   "cell_type": "code",
   "execution_count": null,
   "id": "d5d810c8",
   "metadata": {},
   "outputs": [],
   "source": [
    "#create range object\n",
    "range(4)\n",
    "#print range\n"
   ]
  },
  {
   "cell_type": "code",
   "execution_count": null,
   "id": "9998b91b",
   "metadata": {},
   "outputs": [],
   "source": [
    "#write program that prints the following output using loops\n",
    "# 1 2 3\n",
    "# 1 2 3\n",
    "# 1 2 3\n",
    "i=0\n",
    "while i<3:\n",
    "    print('1 2 3')\n",
    "    i+=1\n",
    "\n",
    "for k in range(3):print('1,2,3')\n",
    "\n",
    "for row in range(3):\n",
    "    line=''\n",
    "    for num in range(1,4):\n",
    "        line+=str(num)+\" \"\n",
    "    print(line.strip())\n",
    "\n",
    "for row in range(3):\n",
    "    for num in range(1,4):\n",
    "        print(num,end=' ')\n",
    "    print()"
   ]
  },
  {
   "cell_type": "code",
   "execution_count": null,
   "id": "029a655e",
   "metadata": {},
   "outputs": [],
   "source": [
    "#error handling\n",
    "try:\n",
    "    result = 10/'a'\n",
    "except ZeroDivisionError:\n",
    "    print('cannot divide by 0')\n",
    "except TypeError:\n",
    "    print('invalid type for division')\n",
    "finally:\n",
    "    print('done')\n",
    "\n",
    "#raising errors!\n",
    "#able to use them as boolean statements for more testing\n",
    "#allows more user friendly error printouts"
   ]
  },
  {
   "cell_type": "code",
   "execution_count": 204,
   "id": "52573250",
   "metadata": {},
   "outputs": [
    {
     "name": "stdout",
     "output_type": "stream",
     "text": [
      "done testing 10\n",
      "Error: -5is a negative number. ending loop.\n",
      "done testing -5\n",
      "done testing 20\n",
      "Error: hellois not an integer. skipping.\n",
      "done testing hello\n",
      "Error: 5.2is not an integer. skipping.\n",
      "done testing 5.2\n",
      "done testing 15\n",
      "Error: Noneis not an integer. skipping.\n",
      "done testing None\n",
      "done testing 30\n",
      "list is [10, 20, 15, 30]\n",
      "sum is: 75\n"
     ]
    }
   ],
   "source": [
    "#practical exercise\n",
    "listy = [10,-5,20,'hello',5.2,15,None,30]\n",
    "\n",
    "#loop through the list\n",
    "#skip any none values or non-integer types with an error message using try/except\n",
    "#raise a ValueError if it finds a negative number (stops the program)\n",
    "#collects all valid positive integers into a new list\n",
    "#prints the new list and the sum of its numbers\n",
    "\n",
    "\n",
    "def intList(l):\n",
    "    newlist=[]\n",
    "    i=0\n",
    "    sum =0\n",
    "    for i in listy:\n",
    "        try:\n",
    "            if not isinstance(i,int): #check for non-integers\n",
    "                raise TypeError(f'{i}'\"is not an integer. skipping.\")\n",
    "            elif (i<0): #check for negative numbers\n",
    "                raise ValueError(f'{i}'\"is a negative number. ending loop.\")\n",
    "            else:\n",
    "                #appending to new list\n",
    "                newlist.append(i)\n",
    "\n",
    "                #summing\n",
    "                sum+=i\n",
    "        except TypeError as message:\n",
    "            print(f\"Error: {message}\")\n",
    "            continue #ensures program does not stop\n",
    "        except ValueError as message:\n",
    "            #raise message #passes along to output and stops the program\n",
    "            print(f\"Error: {message}\") #print error, continue loop\n",
    "        finally:\n",
    "            print('done testing',i)\n",
    "            \n",
    "                \n",
    "    print('list is',newlist)\n",
    "    print('sum is:',sum)\n",
    "\n",
    "intList(listy)"
   ]
  },
  {
   "cell_type": "code",
   "execution_count": 205,
   "id": "6a90cf25",
   "metadata": {},
   "outputs": [
    {
     "ename": "TypeError",
     "evalue": "'list' object is not callable",
     "output_type": "error",
     "traceback": [
      "\u001b[31m---------------------------------------------------------------------------\u001b[39m",
      "\u001b[31mTypeError\u001b[39m                                 Traceback (most recent call last)",
      "\u001b[36mCell\u001b[39m\u001b[36m \u001b[39m\u001b[32mIn[205]\u001b[39m\u001b[32m, line 15\u001b[39m\n\u001b[32m     12\u001b[39m my_list[\u001b[32m2\u001b[39m:\u001b[32m4\u001b[39m]\n\u001b[32m     13\u001b[39m \u001b[38;5;66;03m#start is inclusive, stop is exclusive\u001b[39;00m\n\u001b[32m---> \u001b[39m\u001b[32m15\u001b[39m my_list=\u001b[38;5;28;43mlist\u001b[39;49m\u001b[43m(\u001b[49m\u001b[38;5;28;43mrange\u001b[39;49m\u001b[43m(\u001b[49m\u001b[32;43m1\u001b[39;49m\u001b[43m,\u001b[49m\u001b[32;43m20\u001b[39;49m\u001b[43m)\u001b[49m\u001b[43m)\u001b[49m\n\u001b[32m     16\u001b[39m my_list\n\u001b[32m     17\u001b[39m my_list[::\u001b[32m2\u001b[39m]\n",
      "\u001b[31mTypeError\u001b[39m: 'list' object is not callable"
     ]
    }
   ],
   "source": [
    "my_list=[1,2,3,4,5]\n",
    "list_iterator=iter(my_list)\n",
    "my_range=range(1,6)\n",
    "range_iterator=iter(my_range)\n",
    "\n",
    "#next(list_iterator)\n",
    "\n",
    "#next(range_iterator)\n",
    "\n",
    "my_list\n",
    "my_list[:]\n",
    "my_list[2:4]\n",
    "#start is inclusive, stop is exclusive\n",
    "\n",
    "my_list=list(range(1,20))\n",
    "my_list\n",
    "my_list[::2]\n",
    "my_list[::-2]\n",
    "my_list[19:5:-3]\n",
    "my_list[19:5:3]\n",
    "my_list[-1:-8:-1]"
   ]
  },
  {
   "cell_type": "code",
   "execution_count": 198,
   "id": "bcf084f9",
   "metadata": {},
   "outputs": [
    {
     "name": "stdout",
     "output_type": "stream",
     "text": [
      "3 2 1\n",
      "5 4 3\n",
      "7 6 5\n",
      "\n",
      "7 2\n",
      "7 4\n",
      "7 6\n"
     ]
    },
    {
     "data": {
      "text/plain": [
       "7"
      ]
     },
     "execution_count": 198,
     "metadata": {},
     "output_type": "execute_result"
    }
   ],
   "source": [
    "my_structure = [(1,2,3),(3,4,5),(5,6,7)]\n",
    "for num_one, num_two, num_three in my_structure:\n",
    "    print(num_three,num_two,num_one)\n",
    "print()\n",
    "for num_one, num_two, _ in my_structure:\n",
    "    print(num_three,num_two)\n",
    "\n",
    "_"
   ]
  }
 ],
 "metadata": {
  "kernelspec": {
   "display_name": "Python 3",
   "language": "python",
   "name": "python3"
  },
  "language_info": {
   "codemirror_mode": {
    "name": "ipython",
    "version": 3
   },
   "file_extension": ".py",
   "mimetype": "text/x-python",
   "name": "python",
   "nbconvert_exporter": "python",
   "pygments_lexer": "ipython3",
   "version": "3.13.5"
  }
 },
 "nbformat": 4,
 "nbformat_minor": 5
}
