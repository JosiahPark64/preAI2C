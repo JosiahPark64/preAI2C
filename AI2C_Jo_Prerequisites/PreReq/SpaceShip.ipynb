{
 "cells": [
  {
   "cell_type": "code",
   "execution_count": 1,
   "id": "9fc70a2b",
   "metadata": {},
   "outputs": [],
   "source": [
    "class SpaceShip():\n",
    "    def __init__(self, name,fuel_level=0.0,fuel_efficiency=0.0):\n",
    "        self.name = name\n",
    "        self.fuel = fuel_level\n",
    "        self.fuel_eff = fuel_efficiency\n",
    "\n",
    "    def addFuel(self,fuel_added):\n",
    "        self.fuel += fuel_added\n",
    "        print(f'{self.name} has {self.fuel} pounds of fuel')\n",
    "    def calcFuel(self,distance):\n",
    "        self.fuel_req = distance*self.fuel_eff\n",
    "        print(f'{self.name} requires {self.fuel_req} lbs of fuel for this distance of {distance} km')\n",
    "    def checkFuel(self):\n",
    "        if self.fuel>self.fuel_req:\n",
    "            print('you have enough fuel for the mission')\n",
    "        else: print('you do not have enough fuel for the mission')\n",
    "    def launch(self):\n",
    "        self.fuel -=400\n",
    "\n",
    "\n",
    "        \n",
    "    #def travel(self,planet=Planet()):\n",
    "     #   self.visited_planets.append(planet.name)"
   ]
  },
  {
   "cell_type": "code",
   "execution_count": null,
   "id": "85d42dc4",
   "metadata": {},
   "outputs": [],
   "source": []
  }
 ],
 "metadata": {
  "kernelspec": {
   "display_name": "Python 3",
   "language": "python",
   "name": "python3"
  },
  "language_info": {
   "codemirror_mode": {
    "name": "ipython",
    "version": 3
   },
   "file_extension": ".py",
   "mimetype": "text/x-python",
   "name": "python",
   "nbconvert_exporter": "python",
   "pygments_lexer": "ipython3",
   "version": "3.13.5"
  }
 },
 "nbformat": 4,
 "nbformat_minor": 5
}
