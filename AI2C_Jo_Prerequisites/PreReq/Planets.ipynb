{
 "cells": [
  {
   "cell_type": "code",
   "execution_count": 4,
   "id": "9bc8121f",
   "metadata": {},
   "outputs": [],
   "source": [
    "class Planet():\n",
    "    def __init__(self,name,coordinates,danger,resources,atmosphere):\n",
    "        self.name=name\n",
    "        self.coordinates=coordinates\n",
    "        self.danger=danger\n",
    "        self.resources=resources\n",
    "        self.atmosphere=atmosphere\n",
    "\n",
    "    def __str__(self):\n",
    "        return f'This planet is {self.name}, which is located at {self.coordinates}. It has a danger level of {self.danger} and contains {self.resources} resources. Its atmosphere is {self.atmosphere}.'"
   ]
  },
  {
   "cell_type": "code",
   "execution_count": 5,
   "id": "fdc0e73c",
   "metadata": {},
   "outputs": [],
   "source": [
    "\n",
    "#if __name__ == '__main__':\n",
    "#   print(Earth)\n",
    "#    print(Mars)\n",
    "#    print(Kepler)"
   ]
  }
 ],
 "metadata": {
  "kernelspec": {
   "display_name": "Python 3",
   "language": "python",
   "name": "python3"
  },
  "language_info": {
   "codemirror_mode": {
    "name": "ipython",
    "version": 3
   },
   "file_extension": ".py",
   "mimetype": "text/x-python",
   "name": "python",
   "nbconvert_exporter": "python",
   "pygments_lexer": "ipython3",
   "version": "3.13.5"
  }
 },
 "nbformat": 4,
 "nbformat_minor": 5
}
