{
 "cells": [
  {
   "cell_type": "code",
   "execution_count": 5,
   "id": "21c4d5e3",
   "metadata": {},
   "outputs": [
    {
     "name": "stdout",
     "output_type": "stream",
     "text": [
      "[12, 54, 65, 73, 45, 78, 12, 35, 57, 86]\n",
      "86\n",
      "12\n",
      "51.7\n",
      "Max value is 86Min value is 12Avg value is 51.7Max value is 86\n",
      "\n",
      "Min value is 12\n",
      "\n",
      "Avg value is 51.7\n",
      "\n",
      "Max value is 86\n",
      "\n",
      "Min value is 12\n",
      "\n",
      "Avg value is 51.7\n",
      "\n",
      "Max value is 86\n",
      "\n",
      "Min value is 12\n",
      "\n",
      "Avg value is 51.7\n",
      "\n"
     ]
    }
   ],
   "source": [
    "import os\n",
    "\n",
    "num_list = []\n",
    "maxi = 0\n",
    "smallest = 0\n",
    "avg = 0\n",
    "\n",
    "with open('input.txt','r') as file:\n",
    "    for line in file:\n",
    "        numberr = int(line.strip())\n",
    "        num_list.append(numberr)\n",
    "\n",
    "print(num_list)\n",
    "\n",
    "maxi = max(num_list)\n",
    "smallest=min(num_list)\n",
    "avg=sum(num_list)/len(num_list)\n",
    "\n",
    "print(maxi)\n",
    "print(smallest)\n",
    "print(avg)\n",
    "\n",
    "#write out values to another file\n",
    "with open('output.txt','a') as file:\n",
    "    file.write(f'Max value is {maxi}\\n')\n",
    "    file.write(f'Min value is {smallest}\\n')\n",
    "    file.write(f'Avg value is {avg}\\n')\n",
    "\n",
    "with open('output.txt','r') as file:\n",
    "    for line in file:\n",
    "        print(line)\n"
   ]
  },
  {
   "cell_type": "code",
   "execution_count": null,
   "id": "2b570751",
   "metadata": {},
   "outputs": [],
   "source": []
  }
 ],
 "metadata": {
  "kernelspec": {
   "display_name": "Python 3",
   "language": "python",
   "name": "python3"
  },
  "language_info": {
   "codemirror_mode": {
    "name": "ipython",
    "version": 3
   },
   "file_extension": ".py",
   "mimetype": "text/x-python",
   "name": "python",
   "nbconvert_exporter": "python",
   "pygments_lexer": "ipython3",
   "version": "3.13.5"
  }
 },
 "nbformat": 4,
 "nbformat_minor": 5
}
