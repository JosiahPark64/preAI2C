{
 "cells": [
  {
   "cell_type": "code",
   "execution_count": 12,
   "id": "16225d99",
   "metadata": {},
   "outputs": [
    {
     "name": "stdout",
     "output_type": "stream",
     "text": [
      "65.88524590163935\n"
     ]
    }
   ],
   "source": [
    "#use same list of daily high temps\n",
    "#convert to numpy array\n",
    "#use one of numpy's built-in aggregation functions to solve the question\n",
    "\n",
    "import numpy as np\n",
    "import csv\n",
    "\n",
    "high_temps = []\n",
    "high_temps_flt=[]\n",
    "with open('pittsburgh-weather-2024.csv', newline='') as csvfile:\n",
    "    reader = csv.reader(csvfile)\n",
    "\n",
    "    for row in reader:\n",
    "        row_list=row\n",
    "        highest =row_list[1]\n",
    "        #print(row_list)\n",
    "        #print(row_list[1])\n",
    "        \n",
    "        #print(row['Day'], row['High'], row['Low'], row['Precipitation'], row['Snow'])\n",
    "        #print(row)\n",
    "        #hitemp = int(row.strip())\n",
    "        high_temps.append(highest)\n",
    "\n",
    "high_temps.pop(0)\n",
    "\n",
    "for value in high_temps:\n",
    "    high_temps_flt.append(float(value))\n",
    "\n",
    "hi_temp_arr = np.array(high_temps_flt)\n",
    "\n",
    "#print(hi_temp_arr)\n",
    "\n",
    "avg_hi_temp = np.mean(hi_temp_arr)\n",
    "print(avg_hi_temp)\n",
    "#np.reshape(hi_temp_arr,366)\n",
    "#print(hi_temp_arr)"
   ]
  },
  {
   "cell_type": "code",
   "execution_count": null,
   "id": "1578f739",
   "metadata": {},
   "outputs": [],
   "source": []
  }
 ],
 "metadata": {
  "kernelspec": {
   "display_name": "Python 3",
   "language": "python",
   "name": "python3"
  },
  "language_info": {
   "codemirror_mode": {
    "name": "ipython",
    "version": 3
   },
   "file_extension": ".py",
   "mimetype": "text/x-python",
   "name": "python",
   "nbconvert_exporter": "python",
   "pygments_lexer": "ipython3",
   "version": "3.13.5"
  }
 },
 "nbformat": 4,
 "nbformat_minor": 5
}
