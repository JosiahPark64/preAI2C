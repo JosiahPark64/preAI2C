{
 "cells": [
  {
   "cell_type": "code",
   "execution_count": null,
   "id": "dbceef38",
   "metadata": {},
   "outputs": [
    {
     "name": "stdout",
     "output_type": "stream",
     "text": [
      "smith\n"
     ]
    }
   ],
   "source": [
    "#review 1 \n",
    "#create a list with 5 names in it. sort alphabetically with a method or functions\n",
    "#print the last name in the list\n",
    "names_list=[\"andy\",\"kevin\",\"bob\",\"drew\",\"smith\"]\n",
    "names_list.sort()\n",
    "print(names_list[4])\n",
    "last_name = name_list.pop()\n",
    "#removes last item from the list"
   ]
  },
  {
   "cell_type": "code",
   "execution_count": 1,
   "id": "e8a3c15b",
   "metadata": {},
   "outputs": [
    {
     "name": "stdout",
     "output_type": "stream",
     "text": [
      "100.0\n"
     ]
    }
   ],
   "source": [
    "#review 2\n",
    "#define 2 functions. one function to convert temp from farenheit to celsius and one vice versa\n",
    "#confirm these functions work by calling them and printing these values:\n",
    "#0C <--> 32F\n",
    "#100C <--> 212F\n",
    "\n",
    "def cel_to_f(celsius:int) -> float:\n",
    "    new_f=(celsius*9/5)+32\n",
    "    return new_f\n",
    "\n",
    "def f_to_c(far:int) -> float:\n",
    "    new_c= (far-32)*5/9\n",
    "    return new_c\n",
    "\n",
    "print(f_to_c(212))"
   ]
  },
  {
   "cell_type": "code",
   "execution_count": null,
   "id": "02b4fb2b",
   "metadata": {},
   "outputs": [],
   "source": [
    "# more on data types\n",
    "# reference documentation:  https://docs.python.org/3/library/stdtypes.html\n",
    "# https://docs.python.org/3/reference/expressions.html#operator-summary\n",
    "\n",
    "### booleans\n",
    "# determine if the following statement is true or false\n",
    "# you can test these in the interpreter or using print statements\n",
    "#True and True\n",
    "#False and True\n",
    "#True or False\n",
    "#False and True or False\n",
    "#False and (True or False)"
   ]
  },
  {
   "cell_type": "code",
   "execution_count": 14,
   "id": "d1a0c403",
   "metadata": {},
   "outputs": [
    {
     "name": "stdout",
     "output_type": "stream",
     "text": [
      "4\n",
      "4\n",
      "10 times your guess is 40\n"
     ]
    }
   ],
   "source": [
    "### converting data types\n",
    "# what is the difference between implicit and explicit type conversion?\n",
    "# determine if the following statements result in errors or not\n",
    "#5 + '5'\n",
    "#5 + int('5')\n",
    "#int(5.2) + int('5')\n",
    "#5.2 + float('5')\n",
    "#5 and '5' # bonus question, does this evaluate to true or false?\n",
    "#[1, 2] or [3, 4] # bonus question, does this evaluate true or false?\n",
    "#True + 5\n",
    "#False + 5\n",
    "\n",
    "\n",
    "#10*'hello'\n",
    "my_guess = input('Enter a guess')\n",
    "print(my_guess)\n",
    "int_guess=int(my_guess)\n",
    "print(int_guess)\n",
    "print('10 times your guess is ' + str(10 * int_guess))\n",
    "\n",
    "# can you see how implicit conversions can get you in trouble...?"
   ]
  },
  {
   "cell_type": "code",
   "execution_count": null,
   "id": "496070aa",
   "metadata": {},
   "outputs": [
    {
     "name": "stdout",
     "output_type": "stream",
     "text": [
      "1010\n",
      "11111111\n",
      "21\n"
     ]
    }
   ],
   "source": [
    "### binary and hexadecimal\n",
    "# Convert 10 to binary\n",
    "# Convert 255 to binary\n",
    "\n",
    "def dec_to_binary (decimal):\n",
    "    res=''\n",
    "    while decimal > 0:\n",
    "        res=str(decimal&1)+res\n",
    "        decimal>>=1\n",
    "    print(res)\n",
    "    return(res)\n",
    "        \n",
    "dec_to_binary(10)\n",
    "dec_to_binary(255)\n",
    "\n"
   ]
  },
  {
   "cell_type": "code",
   "execution_count": 48,
   "id": "42a2e4cc",
   "metadata": {},
   "outputs": [
    {
     "name": "stdout",
     "output_type": "stream",
     "text": [
      "21\n",
      "21\n",
      "65793\n",
      "0b111111\n",
      "63\n"
     ]
    },
    {
     "data": {
      "text/plain": [
       "'0b111111'"
      ]
     },
     "execution_count": 48,
     "metadata": {},
     "output_type": "execute_result"
    }
   ],
   "source": [
    "# Convert 0b10101 to decimal\n",
    "# Convert 0x10101 to decimal\n",
    "\n",
    "def bin_to_dec(bin:str):\n",
    "    pointer=0\n",
    "    string=str(bin)\n",
    "    print(bin)\n",
    "    print(string)\n",
    "\n",
    "bin_to_dec(0b10101)\n",
    "\n",
    "print(1+16**2+16**4)\n",
    "0x10101\n",
    "# Perform a bitwise 'or' between 0b110101 and 0b101010, what is its decimal value\n",
    "# Perform a bitwise 'or' between 53 and 42, what is its binary value\n",
    "# Do the same with a bitwise 'and'\n",
    "\n",
    "print(bin(0b110101 | 0b101010))\n",
    "print(0b110101 | 0b101010)\n",
    "bin(53 | 42)\n",
    "\n",
    "\n"
   ]
  },
  {
   "cell_type": "code",
   "execution_count": 44,
   "id": "59beddf7",
   "metadata": {},
   "outputs": [
    {
     "name": "stdout",
     "output_type": "stream",
     "text": [
      "b'hello'\n"
     ]
    },
    {
     "data": {
      "text/plain": [
       "448378203247"
      ]
     },
     "execution_count": 44,
     "metadata": {},
     "output_type": "execute_result"
    }
   ],
   "source": [
    "### string manipulation\n",
    "# Convert 'hello' to bytes and then convert the bytes to an integer\n",
    "# hint: use the encode method\n",
    "hello = 'hello'\n",
    "bit_hell=hello.encode()\n",
    "print(bit_hell)\n",
    "int.from_bytes(bit_hell, \"big\")                         # 1\n",
    "# What's the difference between strip and replace?  When might you use both?\n",
    "\n",
    "# Use index, len, slicing, and concatenation to \n",
    "# replace the word 'horrible' with 'beautiful'\n",
    "# \"It's a horrible day.\"\n",
    "# \"It's a beautiful day.\"\n",
    "\n",
    "# scan through the 'is____' string methods in the documentation.\n",
    "# how might you use those methods to clean a dataset?"
   ]
  },
  {
   "cell_type": "code",
   "execution_count": null,
   "id": "e826346e",
   "metadata": {},
   "outputs": [],
   "source": []
  }
 ],
 "metadata": {
  "kernelspec": {
   "display_name": "Python 3",
   "language": "python",
   "name": "python3"
  },
  "language_info": {
   "codemirror_mode": {
    "name": "ipython",
    "version": 3
   },
   "file_extension": ".py",
   "mimetype": "text/x-python",
   "name": "python",
   "nbconvert_exporter": "python",
   "pygments_lexer": "ipython3",
   "version": "3.13.5"
  }
 },
 "nbformat": 4,
 "nbformat_minor": 5
}
