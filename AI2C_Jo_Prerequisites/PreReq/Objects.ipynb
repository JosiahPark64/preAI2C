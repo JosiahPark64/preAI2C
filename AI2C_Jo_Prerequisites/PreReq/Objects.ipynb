{
 "cells": [
  {
   "cell_type": "code",
   "execution_count": 26,
   "id": "4c9e8aaf",
   "metadata": {},
   "outputs": [
    {
     "name": "stdout",
     "output_type": "stream",
     "text": [
      "Milo\n",
      "Milo meows\n",
      "gizmo meows\n",
      "gizmo is 9 years old\n",
      "5\n",
      "5\n",
      "5\n",
      "11\n",
      "5\n",
      "<class 'type'>\n",
      "<class '__main__.Animal'>\n"
     ]
    },
    {
     "data": {
      "text/plain": [
       "['__class__',\n",
       " '__delattr__',\n",
       " '__dict__',\n",
       " '__dir__',\n",
       " '__doc__',\n",
       " '__eq__',\n",
       " '__firstlineno__',\n",
       " '__format__',\n",
       " '__ge__',\n",
       " '__getattribute__',\n",
       " '__getstate__',\n",
       " '__gt__',\n",
       " '__hash__',\n",
       " '__init__',\n",
       " '__init_subclass__',\n",
       " '__le__',\n",
       " '__lt__',\n",
       " '__module__',\n",
       " '__ne__',\n",
       " '__new__',\n",
       " '__reduce__',\n",
       " '__reduce_ex__',\n",
       " '__repr__',\n",
       " '__setattr__',\n",
       " '__sizeof__',\n",
       " '__static_attributes__',\n",
       " '__str__',\n",
       " '__subclasshook__',\n",
       " '__weakref__',\n",
       " 'age',\n",
       " 'meow']"
      ]
     },
     "execution_count": 26,
     "metadata": {},
     "output_type": "execute_result"
    }
   ],
   "source": [
    "class MyClass():\n",
    "    my_name = 'Milo'\n",
    "\n",
    "    def meow(self):\n",
    "        print(f'{self.my_name} meows')\n",
    "\n",
    "milo = MyClass() # 1 instance of the class\n",
    "print(milo.my_name)\n",
    "milo.meow()\n",
    "\n",
    "class Pet():\n",
    "    def __init__(self, pet_name,age=0):\n",
    "        self.name = pet_name\n",
    "        self.years_old=age\n",
    "    def meow(self):\n",
    "        print(f'{self.name} meows')\n",
    "    def age(self):\n",
    "        print(f'{self.name} is {self.years_old} years old')\n",
    "    \n",
    "gizmo = Pet('gizmo',9)\n",
    "gizmo.meow()\n",
    "gizmo.age()\n",
    "\n",
    "\n",
    "class Animal():\n",
    "    num_instances = 0\n",
    "    def __init__(self):\n",
    "        Animal.num_instances+=1\n",
    "    @classmethod\n",
    "    def how_many_animals(cls):\n",
    "        print(cls.num_instances)\n",
    "\n",
    "milo = Animal()\n",
    "emilio = Animal()\n",
    "benji = Animal()\n",
    "blue = Animal()\n",
    "charlie = Animal()\n",
    "\n",
    "Animal.how_many_animals()\n",
    "print(Animal.num_instances)\n",
    "print(milo.num_instances)          #instance can use class characteristics\n",
    "milo.num_instances+=6\n",
    "print(milo.num_instances)\n",
    "print(Animal.num_instances)\n",
    "\n",
    "#the type of a class 'type'\n",
    "#the type of an object is the class type\n",
    "print(type(Animal))\n",
    "print(type(milo))\n",
    "dir(milo)\n",
    "dir(Pet)\n",
    "\n",
    "#by convention, things with '__' or \"_\" are not to be used outside the class\n",
    "#see objects options using dir()"
   ]
  },
  {
   "cell_type": "code",
   "execution_count": null,
   "id": "3ea3ae87",
   "metadata": {},
   "outputs": [],
   "source": []
  }
 ],
 "metadata": {
  "kernelspec": {
   "display_name": "Python 3",
   "language": "python",
   "name": "python3"
  },
  "language_info": {
   "codemirror_mode": {
    "name": "ipython",
    "version": 3
   },
   "file_extension": ".py",
   "mimetype": "text/x-python",
   "name": "python",
   "nbconvert_exporter": "python",
   "pygments_lexer": "ipython3",
   "version": "3.13.5"
  }
 },
 "nbformat": 4,
 "nbformat_minor": 5
}
