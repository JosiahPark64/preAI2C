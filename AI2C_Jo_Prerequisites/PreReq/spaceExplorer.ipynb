{
 "cells": [
  {
   "cell_type": "code",
   "execution_count": 5,
   "id": "8b8f99b3",
   "metadata": {},
   "outputs": [
    {
     "name": "stdout",
     "output_type": "stream",
     "text": [
      "['c:\\\\Users\\\\Josiah Park\\\\AppData\\\\Local\\\\Programs\\\\Python\\\\Python313\\\\python313.zip', 'c:\\\\Users\\\\Josiah Park\\\\AppData\\\\Local\\\\Programs\\\\Python\\\\Python313\\\\DLLs', 'c:\\\\Users\\\\Josiah Park\\\\AppData\\\\Local\\\\Programs\\\\Python\\\\Python313\\\\Lib', 'c:\\\\Users\\\\Josiah Park\\\\AppData\\\\Local\\\\Programs\\\\Python\\\\Python313', '', 'C:\\\\Users\\\\Josiah Park\\\\AppData\\\\Roaming\\\\Python\\\\Python313\\\\site-packages', 'C:\\\\Users\\\\Josiah Park\\\\AppData\\\\Roaming\\\\Python\\\\Python313\\\\site-packages\\\\win32', 'C:\\\\Users\\\\Josiah Park\\\\AppData\\\\Roaming\\\\Python\\\\Python313\\\\site-packages\\\\win32\\\\lib', 'C:\\\\Users\\\\Josiah Park\\\\AppData\\\\Roaming\\\\Python\\\\Python313\\\\site-packages\\\\Pythonwin', 'c:\\\\Users\\\\Josiah Park\\\\AppData\\\\Local\\\\Programs\\\\Python\\\\Python313\\\\Lib\\\\site-packages']\n"
     ]
    },
    {
     "ename": "ModuleNotFoundError",
     "evalue": "No module named 'SpaceShip'",
     "output_type": "error",
     "traceback": [
      "\u001b[31m---------------------------------------------------------------------------\u001b[39m",
      "\u001b[31mModuleNotFoundError\u001b[39m                       Traceback (most recent call last)",
      "\u001b[36mCell\u001b[39m\u001b[36m \u001b[39m\u001b[32mIn[5]\u001b[39m\u001b[32m, line 4\u001b[39m\n\u001b[32m      1\u001b[39m \u001b[38;5;28;01mimport\u001b[39;00m\u001b[38;5;250m \u001b[39m\u001b[34;01msys\u001b[39;00m\n\u001b[32m      3\u001b[39m \u001b[38;5;28mprint\u001b[39m(sys.path)\n\u001b[32m----> \u001b[39m\u001b[32m4\u001b[39m \u001b[38;5;28;01mfrom\u001b[39;00m\u001b[38;5;250m \u001b[39m\u001b[34;01mSpaceShip\u001b[39;00m\u001b[38;5;250m \u001b[39m\u001b[38;5;28;01mimport\u001b[39;00m SpaceShip\n\u001b[32m      5\u001b[39m \u001b[38;5;28;01mfrom\u001b[39;00m\u001b[38;5;250m \u001b[39m\u001b[34;01mPlayer\u001b[39;00m\u001b[38;5;250m \u001b[39m\u001b[38;5;28;01mimport\u001b[39;00m Player\n\u001b[32m      6\u001b[39m \u001b[38;5;28;01mfrom\u001b[39;00m\u001b[38;5;250m \u001b[39m\u001b[34;01mPlanets\u001b[39;00m\u001b[38;5;250m \u001b[39m\u001b[38;5;28;01mimport\u001b[39;00m Planet\n",
      "\u001b[31mModuleNotFoundError\u001b[39m: No module named 'SpaceShip'"
     ]
    }
   ],
   "source": [
    "import sys\n",
    "\n",
    "print(sys.path)\n",
    "from SpaceShip import SpaceShip\n",
    "from Player import Player\n",
    "from Planets import Planet\n",
    "\n",
    "Vostok1 = SpaceShip(\"Vostok 1\", 250, 1.5)\n",
    "Voyager1 = SpaceShip(\"Voyager 1\", 400, 2.0)\n",
    "Apollo11 = SpaceShip(\"Apollo 11\", 600, 2.5)\n",
    "\n",
    "Earth = Planet(\"Earth\", (149.6, 0.0, 0.0), 0, 0, \"Earth-like\")\n",
    "Mars = Planet(\"Mars\", (227.9,0.0,1.0), 1, 20, \"Thin\")\n",
    "Jupiter = Planet(\"Jupiter\", (778.5,50.0,12.0), 3, 40, \"Gas Giant\")\n",
    "Saturn = Planet(\"Saturn\", (1434.0,-80.0,-20.0), 2, 35, \"Gas Giant\")\n",
    "Uranus = Planet(\"Uranus\", (2871.0,30.0,40.0), 2, 45, \"Icy\")\n",
    "Neptune = Planet(\"Neptune\", (4495.0,-25.0,70.0), 4, 50, \"Icy\")\n",
    "Pluto = Planet(\"Pluto\", (5906.0,120.0,-90.0), 5, 60, \"Frozen\")\n",
    "Eris = Planet(\"Eris\", (10100.0,200.0,-130.0), 4, 55, \"Frozen\")\n",
    "Kepler = Planet(\"Kepler-22b\", (600000.0,0.0,0.0), 3, 70, \"Earth-like\")\n",
    "Proximab = Planet(\"Proxima b\", (402080.0,30.0,10.0), 5, 80, \"Unknown\")\n",
    "\n",
    "Player1 = Player('player1',2)"
   ]
  },
  {
   "cell_type": "markdown",
   "id": "b44e003e",
   "metadata": {},
   "source": [
    "3. Add methods to:\n",
    "   - Record visited planets and update distance and current planet\n",
    "   - Buy fuel for the spacecraft using available credits\n",
    "   - Calculate the player's score based off distance, credits, and mission rewards\n",
    "   - Display a status summary\n",
    "\n",
    "4. Create a method to simulate a mission on the current planet with varying outcomes:\n",
    "   - Use danger level to calculate success chance\n",
    "   - Return success, partial, or fail outcomes with appropriate reward values\n",
    "   - Optional: limit the number of missions a player can do at a planet"
   ]
  },
  {
   "cell_type": "code",
   "execution_count": null,
   "id": "81ea1749",
   "metadata": {},
   "outputs": [],
   "source": [
    "print(Earth.coordinates)\n",
    "#need function for distance between planets\n",
    "tuple1 = (600000.0,0.0,0.0)\n",
    "tuple2 = (402080.0,30.0,10.0)\n",
    "travel_distance = ((tuple2[0]-tuple1[0])**2+(tuple2[1]-tuple1[1])**2+(tuple2[2]-tuple1[2])**2)**.5\n",
    "print(travel_distance)\n",
    "\n",
    "print(Player1.current_planet)\n",
    "player = Player1\n",
    "print(player.current_planet)\n",
    "\n",
    "\n",
    "#if this is the ACTIVE program, run this\n",
    "#if __name__ == \"__main__\":\n",
    "#best practice is that each class has a different file\n",
    "\n",
    "def flyTo(player,planet,spaceship):\n",
    "    current_planet = player.current_planet\n",
    "    current_coord = current_planet.coordinates\n",
    "    print(current_planet.coordinates)\n",
    "    print(Earth.coordinates)\n",
    "    print(current_coord)\n",
    "\n",
    "flyTo(Player1,Mars,Vostok1)\n",
    "#Start at Earth"
   ]
  },
  {
   "cell_type": "markdown",
   "id": "73cd31d0",
   "metadata": {},
   "source": [
    "## ✅ Next Steps\n",
    "\n",
    "Once the classes are implemented:\n",
    "- Use them in a main game loop to let the player explore planets\n",
    "- Implement mechanics like unlocking new planets, choosing when to do missions, and managing fuel\n",
    "- Some sample data is below:"
   ]
  },
  {
   "cell_type": "markdown",
   "id": "4d769f9f",
   "metadata": {},
   "source": [
    "### Other Thoughts\n",
    "- How many times can a player do a mission at a single planet?\n",
    "- What's the best way to tune / tweak these values?\n",
    "- Implement a config file or data file to dynamically store / load data."
   ]
  },
  {
   "cell_type": "markdown",
   "id": "93e90c71",
   "metadata": {},
   "source": []
  },
  {
   "cell_type": "markdown",
   "id": "12d3177a",
   "metadata": {},
   "source": []
  }
 ],
 "metadata": {
  "kernelspec": {
   "display_name": "Python 3",
   "language": "python",
   "name": "python3"
  },
  "language_info": {
   "codemirror_mode": {
    "name": "ipython",
    "version": 3
   },
   "file_extension": ".py",
   "mimetype": "text/x-python",
   "name": "python",
   "nbconvert_exporter": "python",
   "pygments_lexer": "ipython3",
   "version": "3.13.5"
  }
 },
 "nbformat": 4,
 "nbformat_minor": 5
}
