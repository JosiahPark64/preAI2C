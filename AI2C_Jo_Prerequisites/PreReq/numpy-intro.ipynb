{
 "cells": [
  {
   "cell_type": "code",
   "execution_count": 3,
   "id": "0cf65ddf",
   "metadata": {},
   "outputs": [
    {
     "name": "stdout",
     "output_type": "stream",
     "text": [
      "[1 2 3 4 5]\n"
     ]
    }
   ],
   "source": [
    "import numpy as np\n",
    "\n",
    "#1D array\n",
    "arr1 = np.array([1,2,3,4,5])\n",
    "print(arr1)"
   ]
  },
  {
   "cell_type": "code",
   "execution_count": 2,
   "id": "29437201",
   "metadata": {},
   "outputs": [],
   "source": [
    "#2d array\n",
    "arr2 = np.array"
   ]
  },
  {
   "cell_type": "markdown",
   "id": "b59e0dbb",
   "metadata": {},
   "source": [
    "upcasting - if you have an array with integers and strings, the numbers will be\"upcaseted\" to strings\n",
    "python list - flexible and built in that can hold items of any type. easy to use but not optimized for large data\n",
    "numPy array - fast, memory efficient structure for numeric data. only holds one data type and supports vectorized operations like array + 2 or array.mean()\n",
    "Can use np.array for strings, but the arrays are optimized for numeric data and it behaves more like a python list at that point, just stricter in type\n",
    "np.array([1,2,3])"
   ]
  },
  {
   "cell_type": "markdown",
   "id": "67eae70e",
   "metadata": {},
   "source": []
  },
  {
   "cell_type": "markdown",
   "id": "feb71bee",
   "metadata": {},
   "source": []
  },
  {
   "cell_type": "markdown",
   "id": "bb39c15e",
   "metadata": {},
   "source": []
  },
  {
   "cell_type": "markdown",
   "id": "416d1f1e",
   "metadata": {},
   "source": []
  },
  {
   "cell_type": "markdown",
   "id": "98d3a09e",
   "metadata": {},
   "source": []
  }
 ],
 "metadata": {
  "kernelspec": {
   "display_name": "Python 3",
   "language": "python",
   "name": "python3"
  },
  "language_info": {
   "codemirror_mode": {
    "name": "ipython",
    "version": 3
   },
   "file_extension": ".py",
   "mimetype": "text/x-python",
   "name": "python",
   "nbconvert_exporter": "python",
   "pygments_lexer": "ipython3",
   "version": "3.13.5"
  }
 },
 "nbformat": 4,
 "nbformat_minor": 5
}
