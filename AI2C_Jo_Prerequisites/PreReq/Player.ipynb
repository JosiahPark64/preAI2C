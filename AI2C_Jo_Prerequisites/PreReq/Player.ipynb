{
 "cells": [
  {
   "cell_type": "code",
   "execution_count": 1,
   "id": "79dd44e2",
   "metadata": {},
   "outputs": [],
   "source": [
    "class Player():\n",
    "    def __init__(self,name,difficulty):\n",
    "        self.name=name\n",
    "        self.difficulty=difficulty\n",
    "        self.current_planet='Earth'\n",
    "        self.distance_travelled=0\n",
    "        self.visited_planets=['Earth']\n",
    "        self.score=0\n",
    "        self.credits=0\n",
    "        self.mission_rewards=[]"
   ]
  },
  {
   "cell_type": "code",
   "execution_count": null,
   "id": "3fd52a74",
   "metadata": {},
   "outputs": [],
   "source": []
  }
 ],
 "metadata": {
  "kernelspec": {
   "display_name": "Python 3",
   "language": "python",
   "name": "python3"
  },
  "language_info": {
   "codemirror_mode": {
    "name": "ipython",
    "version": 3
   },
   "file_extension": ".py",
   "mimetype": "text/x-python",
   "name": "python",
   "nbconvert_exporter": "python",
   "pygments_lexer": "ipython3",
   "version": "3.13.5"
  }
 },
 "nbformat": 4,
 "nbformat_minor": 5
}
