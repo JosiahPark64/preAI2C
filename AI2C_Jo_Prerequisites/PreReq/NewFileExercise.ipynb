{
 "cells": [
  {
   "cell_type": "code",
   "execution_count": null,
   "id": "180ad146",
   "metadata": {},
   "outputs": [],
   "source": [
    "import os\n",
    "import numpy\n",
    "import random\n",
    "\n",
    "with open('practice-file.txt','w') as file:\n",
    "    for i in range(100):\n",
    "        file.writelines(str(random.randint(1,1000))+'\\n')\n",
    "    print('file created')\n",
    "\n",
    "\n",
    "with open('practice-file','r') as file:\n",
    "    num_list=[]\n",
    "    for line in file:\n",
    "        line = line.strip()\n",
    "        int_line =int(line)\n",
    "        num_list.append(int_line)\n",
    "\n",
    "num_list.sort()\n",
    "list_sum(num_list)\n",
    "\n",
    "print('min is'+num_list[-1])\n",
    "print('max is'+ num_list[99])"
   ]
  }
 ],
 "metadata": {
  "language_info": {
   "name": "python"
  }
 },
 "nbformat": 4,
 "nbformat_minor": 5
}
