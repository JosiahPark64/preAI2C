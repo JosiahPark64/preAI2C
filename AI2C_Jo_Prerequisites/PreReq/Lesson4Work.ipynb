{
 "cells": [
  {
   "cell_type": "markdown",
   "id": "6abc60a2",
   "metadata": {},
   "source": [
    "### Exercise 1: Print Numbers with a For Loop\n",
    "\n",
    "**Goal**: Print numbers 10 to 1 using a `for` loop.\n",
    "\n",
    "✅ *Check*: Output should count down from 10 to 1.\n"
   ]
  },
  {
   "cell_type": "code",
   "execution_count": 6,
   "id": "a2b6fd33",
   "metadata": {},
   "outputs": [
    {
     "name": "stdout",
     "output_type": "stream",
     "text": [
      "10\n",
      "9\n",
      "8\n",
      "7\n",
      "6\n",
      "5\n",
      "4\n",
      "3\n",
      "2\n",
      "1\n"
     ]
    }
   ],
   "source": [
    "for i in [10,9,8,7,6,5,4,3,2,1]:\n",
    "    print(i)\n"
   ]
  },
  {
   "cell_type": "markdown",
   "id": "ee4060ad",
   "metadata": {},
   "source": [
    "Exercise 2: Sum of Numbers with While Loop\n",
    "Goal: Use a while loop to sum numbers from 1 to 100.\n",
    "\n",
    "✅ Check: Output should be 5050."
   ]
  },
  {
   "cell_type": "code",
   "execution_count": 16,
   "id": "e1f737d7",
   "metadata": {},
   "outputs": [
    {
     "name": "stdout",
     "output_type": "stream",
     "text": [
      "5050\n"
     ]
    }
   ],
   "source": [
    "total=0\n",
    "x=0\n",
    "i=0\n",
    "while i<101:\n",
    "    total+=i\n",
    "    i+=1\n",
    "print(total)"
   ]
  },
  {
   "cell_type": "markdown",
   "id": "9d25428a",
   "metadata": {},
   "source": [
    "### Exercise 3: Skip Multiples of 3\n",
    "\n",
    "**Goal**: Print numbers 1 to 20, skipping multiples of 3.\n",
    "\n",
    "✅ *Check*: 3, 6, 9, etc. should be skipped."
   ]
  },
  {
   "cell_type": "code",
   "execution_count": 21,
   "id": "33bcd8c4",
   "metadata": {},
   "outputs": [
    {
     "name": "stdout",
     "output_type": "stream",
     "text": [
      "1\n",
      "2\n",
      "4\n",
      "5\n",
      "7\n",
      "8\n",
      "10\n",
      "11\n",
      "13\n",
      "14\n",
      "16\n",
      "17\n",
      "19\n",
      "20\n"
     ]
    }
   ],
   "source": [
    "i=0\n",
    "while i<21:\n",
    "    if(i%3!=0):\n",
    "        print(i)\n",
    "    else:\n",
    "        pass\n",
    "    i+=1\n"
   ]
  },
  {
   "cell_type": "markdown",
   "id": "dede7b30",
   "metadata": {},
   "source": [
    "### Exercise 4: Find First Prime > 100\n",
    "\n",
    "**Goal**: Use a `while` loop to find the first prime number greater than 100.\n",
    "\n",
    "✅ *Check*: Should print 101."
   ]
  },
  {
   "cell_type": "code",
   "execution_count": null,
   "id": "4a2537d8",
   "metadata": {},
   "outputs": [],
   "source": [
    "n=77\n",
    "k=2\n",
    "prime=0\n",
    "while n>=77:\n",
    "    print('testing',n)\n",
    "    while k<n:\n",
    "        print('is',n,'divisible by',k,'?')\n",
    "        if(k!=n-1):\n",
    "            if(n%k!=0):\n",
    "                print(n,'is not divisible by',k)\n",
    "                k+=1\n",
    "            else:\n",
    "                print(n,'is divisible by',k)\n",
    "                break\n",
    "        else:\n",
    "            prime=1\n",
    "            break\n",
    "    if(prime==1):\n",
    "        print(n,'is prime! Ending loop')\n",
    "        break\n",
    "    else:\n",
    "        n+=1\n"
   ]
  },
  {
   "cell_type": "code",
   "execution_count": 55,
   "id": "9e0e77ff",
   "metadata": {},
   "outputs": [
    {
     "name": "stdout",
     "output_type": "stream",
     "text": [
      "testing 13\n",
      "is 14 divisible by 13 ?\n",
      "14 is not divisible by 13\n",
      "testing 12\n",
      "is 14 divisible by 12 ?\n",
      "14 is not divisible by 12\n",
      "testing 11\n",
      "is 14 divisible by 11 ?\n",
      "14 is not divisible by 11\n",
      "testing 10\n",
      "is 14 divisible by 10 ?\n",
      "14 is not divisible by 10\n",
      "testing 9\n",
      "is 14 divisible by 9 ?\n",
      "14 is not divisible by 9\n",
      "testing 8\n",
      "is 14 divisible by 8 ?\n",
      "14 is not divisible by 8\n",
      "testing 7\n",
      "is 14 divisible by 7 ?\n",
      "14 is disvisible by 7 so 14 is not prime\n",
      "testing 14\n",
      "is 15 divisible by 14 ?\n",
      "15 is not divisible by 14\n",
      "testing 13\n",
      "is 15 divisible by 13 ?\n",
      "15 is not divisible by 13\n",
      "testing 12\n",
      "is 15 divisible by 12 ?\n",
      "15 is not divisible by 12\n",
      "testing 11\n",
      "is 15 divisible by 11 ?\n",
      "15 is not divisible by 11\n",
      "testing 10\n",
      "is 15 divisible by 10 ?\n",
      "15 is not divisible by 10\n",
      "testing 9\n",
      "is 15 divisible by 9 ?\n",
      "15 is not divisible by 9\n",
      "testing 8\n",
      "is 15 divisible by 8 ?\n",
      "15 is not divisible by 8\n",
      "testing 7\n",
      "is 15 divisible by 7 ?\n",
      "15 is not divisible by 7\n",
      "testing 6\n",
      "is 15 divisible by 6 ?\n",
      "15 is not divisible by 6\n",
      "testing 5\n",
      "is 15 divisible by 5 ?\n",
      "15 is disvisible by 5 so 15 is not prime\n",
      "testing 15\n",
      "is 16 divisible by 15 ?\n",
      "16 is not divisible by 15\n",
      "testing 14\n",
      "is 16 divisible by 14 ?\n",
      "16 is not divisible by 14\n",
      "testing 13\n",
      "is 16 divisible by 13 ?\n",
      "16 is not divisible by 13\n",
      "testing 12\n",
      "is 16 divisible by 12 ?\n",
      "16 is not divisible by 12\n",
      "testing 11\n",
      "is 16 divisible by 11 ?\n",
      "16 is not divisible by 11\n",
      "testing 10\n",
      "is 16 divisible by 10 ?\n",
      "16 is not divisible by 10\n",
      "testing 9\n",
      "is 16 divisible by 9 ?\n",
      "16 is not divisible by 9\n",
      "testing 8\n",
      "is 16 divisible by 8 ?\n",
      "16 is disvisible by 8 so 16 is not prime\n",
      "testing 16\n",
      "is 17 divisible by 16 ?\n",
      "17 is not divisible by 16\n",
      "testing 15\n",
      "is 17 divisible by 15 ?\n",
      "17 is not divisible by 15\n",
      "testing 14\n",
      "is 17 divisible by 14 ?\n",
      "17 is not divisible by 14\n",
      "testing 13\n",
      "is 17 divisible by 13 ?\n",
      "17 is not divisible by 13\n",
      "testing 12\n",
      "is 17 divisible by 12 ?\n",
      "17 is not divisible by 12\n",
      "testing 11\n",
      "is 17 divisible by 11 ?\n",
      "17 is not divisible by 11\n",
      "testing 10\n",
      "is 17 divisible by 10 ?\n",
      "17 is not divisible by 10\n",
      "testing 9\n",
      "is 17 divisible by 9 ?\n",
      "17 is not divisible by 9\n",
      "testing 8\n",
      "is 17 divisible by 8 ?\n",
      "17 is not divisible by 8\n",
      "testing 7\n",
      "is 17 divisible by 7 ?\n",
      "17 is not divisible by 7\n",
      "testing 6\n",
      "is 17 divisible by 6 ?\n",
      "17 is not divisible by 6\n",
      "testing 5\n",
      "is 17 divisible by 5 ?\n",
      "17 is not divisible by 5\n",
      "testing 4\n",
      "is 17 divisible by 4 ?\n",
      "17 is not divisible by 4\n",
      "testing 3\n",
      "is 17 divisible by 3 ?\n",
      "17 is not divisible by 3\n",
      "testing 2\n",
      "is 17 divisible by 2 ?\n",
      "17 is not divisible by 2\n",
      "17 is a prime number!\n"
     ]
    }
   ],
   "source": [
    "def prime_test(num):\n",
    "    z=num-1\n",
    "    prime=0\n",
    "    \n",
    "    while num<num**2:\n",
    "        while z>1:\n",
    "            print('testing',z)\n",
    "            print('is',num,'divisible by',z,'?')\n",
    "            if(num%z!=0):\n",
    "                print(num,'is not divisible by',z)\n",
    "                if(z==2):\n",
    "                    print(num,'is a prime number!')\n",
    "                    prime=1\n",
    "                    break\n",
    "                else:\n",
    "                    z-=1\n",
    "            else:\n",
    "                print(num,'is disvisible by',z,'so',num,'is not prime')\n",
    "                break\n",
    "        if(prime==1):\n",
    "            break\n",
    "        else:\n",
    "            num+=1\n",
    "            z=num-1\n",
    "        \n",
    "\n",
    "prime_test(14)"
   ]
  },
  {
   "cell_type": "markdown",
   "id": "f8443cfd",
   "metadata": {},
   "source": [
    "### Exercise 5: Reverse a List Without Built-in Methods\n",
    "\n",
    "**Goal**: Reverse a list using a `while` loop.\n",
    "\n",
    "✅ *Check*: Should output `[5, 4, 3, 2, 1]`."
   ]
  },
  {
   "cell_type": "code",
   "execution_count": 73,
   "id": "b700eedb",
   "metadata": {},
   "outputs": [
    {
     "name": "stdout",
     "output_type": "stream",
     "text": [
      "['oreo', 7, 6, 5, 4, 3, 2, 1]\n",
      "['oreo', 7, 6, 5, 4, 3, 2, 1, 2]\n",
      "['oreo', 7, 6, 5, 4, 3, 1, 2]\n",
      "['oreo', 7, 6, 5, 4, 3, 1, 2, 3]\n",
      "['oreo', 7, 6, 5, 4, 1, 2, 3]\n",
      "['oreo', 7, 6, 5, 4, 1, 2, 3, 4]\n",
      "['oreo', 7, 6, 5, 1, 2, 3, 4]\n",
      "['oreo', 7, 6, 5, 1, 2, 3, 4, 5]\n",
      "['oreo', 7, 6, 1, 2, 3, 4, 5]\n",
      "['oreo', 7, 6, 1, 2, 3, 4, 5, 6]\n",
      "['oreo', 7, 1, 2, 3, 4, 5, 6]\n",
      "['oreo', 7, 1, 2, 3, 4, 5, 6, 7]\n",
      "['oreo', 1, 2, 3, 4, 5, 6, 7]\n",
      "['oreo', 1, 2, 3, 4, 5, 6, 7, 'oreo']\n",
      "[1, 2, 3, 4, 5, 6, 7, 'oreo']\n",
      "[1, 2, 3, 4, 5, 6, 7, 'oreo', 'oreo']\n",
      "[1, 2, 3, 4, 5, 6, 7, 'oreo']\n"
     ]
    }
   ],
   "source": [
    "def reverse_list(list):\n",
    "    length=len(list)\n",
    "    i=length\n",
    "    print(list)\n",
    "    while i>0:\n",
    "        list.append(list[i-2])\n",
    "        print(list)\n",
    "        del list[i-2]\n",
    "        print(list)\n",
    "        i-=1\n",
    "\n",
    "mylist=['oreo',7,6,5,4,3,2,1]\n",
    "reverse_list(mylist)"
   ]
  },
  {
   "cell_type": "markdown",
   "id": "2f498c67",
   "metadata": {},
   "source": [
    "### Exercise 6: Manual Iteration with Iterator\n",
    "\n",
    "**Goal**: Use `iter()` and `next()` to manually iterate through a list.\n",
    "\n",
    "✅ *Check*: All words should be printed in order."
   ]
  },
  {
   "cell_type": "code",
   "execution_count": 82,
   "id": "0c0bd08c",
   "metadata": {},
   "outputs": [
    {
     "name": "stdout",
     "output_type": "stream",
     "text": [
      "<list_iterator object at 0x000001C29C13E8F0>\n",
      "cat\n",
      "dog\n",
      "larry\n",
      "kevin\n"
     ]
    }
   ],
   "source": [
    "list2 = ['cat','dog','larry','kevin']\n",
    "pointer=iter(list2)\n",
    "print(pointer)\n",
    "print(next(pointer))\n",
    "print(next(pointer))\n",
    "print(next(pointer))\n",
    "print(next(pointer))"
   ]
  },
  {
   "cell_type": "code",
   "execution_count": null,
   "id": "30fa3ed4",
   "metadata": {},
   "outputs": [],
   "source": []
  },
  {
   "cell_type": "markdown",
   "id": "829f6a34",
   "metadata": {},
   "source": [
    "### Exercise 7: Nested Loop with Tuple Unpacking\n",
    "\n",
    "**Goal**: Iterate over student records with name and grades.\n",
    "\n",
    "✅ *Check*: Each student should show their name and grades below."
   ]
  },
  {
   "cell_type": "code",
   "execution_count": null,
   "id": "032b409c",
   "metadata": {},
   "outputs": [],
   "source": []
  }
 ],
 "metadata": {
  "kernelspec": {
   "display_name": "Python 3",
   "language": "python",
   "name": "python3"
  },
  "language_info": {
   "codemirror_mode": {
    "name": "ipython",
    "version": 3
   },
   "file_extension": ".py",
   "mimetype": "text/x-python",
   "name": "python",
   "nbconvert_exporter": "python",
   "pygments_lexer": "ipython3",
   "version": "3.13.5"
  }
 },
 "nbformat": 4,
 "nbformat_minor": 5
}
