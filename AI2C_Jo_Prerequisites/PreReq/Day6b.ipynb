{
 "cells": [
  {
   "cell_type": "markdown",
   "id": "c2f2bca7",
   "metadata": {},
   "source": [
    "# Rock Paper Scissors Level 2\n",
    "[] ask user how many games they want to play to determine the overall winner. the computer will only accept 1 to 9 rounds  \n",
    "[] user can only be an odd number from 1-9. continue to ask the user to re-enter how many games until the user meets the criteria  \n",
    "[] if the user wants to play the best of 3 games and wins the first 2, they do not need to play a third game  \n",
    "[] bonus: incorporate ASCII art and delays to add flare"
   ]
  },
  {
   "cell_type": "code",
   "execution_count": null,
   "id": "3f3f4e6a",
   "metadata": {},
   "outputs": [
    {
     "name": "stdout",
     "output_type": "stream",
     "text": [
      "we will play to best of 3\n",
      "Round Number 1 of 3\n",
      "CPU played paper.\n",
      "You played rock.\n",
      "you lose!\n",
      "2 rounds remaining.\n",
      "Round Number 2 of 3\n",
      "CPU played scissors.\n",
      "You played rock.\n",
      "you win!\n",
      "1 rounds remaining.\n",
      "Round Number 3 of 3\n",
      "CPU played scissors.\n",
      "You played rock.\n",
      "you win!\n",
      "0 rounds remaining.\n"
     ]
    }
   ],
   "source": [
    "import random\n",
    "results = ['rock','paper','scissors']\n",
    "CPU_wins=0\n",
    "user_wins=0\n",
    "CPU_cast=''\n",
    "round_count=1\n",
    "remaining_rounds=0\n",
    "output_string = ''\n",
    "total_rounds = int(input('How many rounds of Rock Paper Scissors would you like to play?'))\n",
    "print(f'we will play to best of {total_rounds}')\n",
    "min_score=int(total_rounds/2)+1\n",
    "\n",
    "def new_round(round,total):                         #inputs are the current round count and the total rounds possible\n",
    "    print(f'Round Number {round} of {total}')       #print what round we are on\n",
    "    gameplay(input('Cast rock, paper or scissors')) #get new input\n",
    "    remaining_rounds=total_rounds-round             #increment and print rounds left\n",
    "    print(f'{remaining_rounds} rounds remaining.')\n",
    "\n",
    "def gameplay(user_cast):                            #core gameplay loop\n",
    "    global CPU_wins                                 #allows funciton to access global variables outside its scope\n",
    "    global user_wins\n",
    "    CPU_cast=random.choice(results)\n",
    "    print('CPU played ' + CPU_cast+'.')\n",
    "    print('You played ' + user_cast+'.')\n",
    "\n",
    "    if user_cast=='rock' and CPU_cast=='paper':\n",
    "        print('you lose!')\n",
    "        CPU_wins+=1\n",
    "\n",
    "    elif user_cast=='rock' and CPU_cast=='scissors':\n",
    "        print('you win!')\n",
    "        user_wins+=1\n",
    "\n",
    "    elif user_cast=='paper' and CPU_cast=='rock':\n",
    "        print('you win!')\n",
    "        user_wins+=1\n",
    "\n",
    "    elif user_cast=='paper' and CPU_cast=='scissors':\n",
    "        print('you lose!')\n",
    "        CPU_wins+=1\n",
    "\n",
    "    elif user_cast=='scissors' and CPU_cast=='rock':\n",
    "        print('you lose!')\n",
    "        CPU_wins+=1\n",
    "\n",
    "    elif user_cast=='scissors' and CPU_cast=='paper':\n",
    "        print('you win!')\n",
    "        user_wins+=1\n",
    "    else:\n",
    "        print('you both cast ' + user_cast)\n",
    "        print('tie!')\n",
    "\n",
    "while round_count < total_rounds+1:                 #continue play loop if the current round is less than the total amount of rounds\n",
    "    if CPU_wins==min_score:                         #check if CPU hit the minimum win count\n",
    "        print('CPU wins overall. GG')\n",
    "        break\n",
    "    elif user_wins==min_score:                      #check if user hit minimum win count\n",
    "        print('You win overall. GG')\n",
    "        break\n",
    "    else:                                           \n",
    "        new_round(round_count, total_rounds)        #play a new round\n",
    "        round_count+=1                              #increment round counter\n",
    "    \n",
    "\n",
    "\n",
    "\n",
    "\n",
    "\n",
    "\n",
    "\n",
    "\n",
    "\n"
   ]
  },
  {
   "cell_type": "code",
   "execution_count": 46,
   "id": "915ae68b",
   "metadata": {},
   "outputs": [
    {
     "data": {
      "text/plain": [
       "2.5"
      ]
     },
     "execution_count": 46,
     "metadata": {},
     "output_type": "execute_result"
    }
   ],
   "source": [
    "5/2"
   ]
  }
 ],
 "metadata": {
  "kernelspec": {
   "display_name": "Python 3",
   "language": "python",
   "name": "python3"
  },
  "language_info": {
   "codemirror_mode": {
    "name": "ipython",
    "version": 3
   },
   "file_extension": ".py",
   "mimetype": "text/x-python",
   "name": "python",
   "nbconvert_exporter": "python",
   "pygments_lexer": "ipython3",
   "version": "3.13.5"
  }
 },
 "nbformat": 4,
 "nbformat_minor": 5
}
